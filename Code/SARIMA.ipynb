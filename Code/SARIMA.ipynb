{
  "nbformat": 4,
  "nbformat_minor": 0,
  "metadata": {
    "colab": {
      "provenance": []
    },
    "kernelspec": {
      "name": "python3",
      "display_name": "Python 3"
    },
    "language_info": {
      "name": "python"
    }
  },
  "cells": [
    {
      "cell_type": "code",
      "execution_count": null,
      "metadata": {
        "id": "Au4pTfu8LZ__"
      },
      "outputs": [],
      "source": [
        "import pandas as pd\n",
        "import numpy as np\n",
        "import matplotlib.pyplot as plt\n",
        "from sklearn.metrics import r2_score, mean_absolute_error, mean_squared_error\n",
        "from statsmodels.tsa.statespace.sarimax import SARIMAX\n",
        "\n",
        "# Load the dataset\n",
        "data = pd.read_csv(\"AMZNtrain.csv\")\n",
        "# Display the original stock market data\n",
        "print(\"Original Stock Market Data:\")\n",
        "print(data.head())\n",
        "\n",
        "# Visualize the original stock prices\n",
        "plt.figure(figsize=(10, 6))\n",
        "plt.plot(data['Close'])\n",
        "plt.xlabel('Time')\n",
        "plt.ylabel('Stock Price')\n",
        "plt.title('Original Stock Prices')\n",
        "plt.show()\n",
        "\n",
        "# Preprocess the data\n",
        "train_size = int(len(data) * 0.8)\n",
        "train_data = data.iloc[:train_size]['Close']\n",
        "test_data = data.iloc[train_size:]['Close']\n",
        "\n",
        "# Create SARIMA model\n",
        "model = SARIMAX(train_data, order=(3, 1, 2), seasonal_order=(1, 0, 1, 12))  # Example order and seasonal_order values, you can tune them\n",
        "model_fit = model.fit()\n",
        "\n",
        "# Make predictions on the test data\n",
        "y_pred = model_fit.forecast(steps=len(test_data))\n",
        "\n",
        "# Calculate the R-squared score\n",
        "r2 = r2_score(test_data, y_pred)\n",
        "print(\"R-squared score:\", r2)\n",
        "\n",
        "# Calculate the Mean Absolute Error (MAE)\n",
        "mae = mean_absolute_error(test_data, y_pred)\n",
        "print(\"Mean Absolute Error (MAE):\", mae)\n",
        "\n",
        "# Calculate the Mean Squared Error (MSE)\n",
        "mse = mean_squared_error(test_data, y_pred)\n",
        "print(\"Mean Squared Error (MSE):\", mse)\n",
        "\n",
        "# Calculate the Root Mean Squared Error (RMSE)\n",
        "rmse = np.sqrt(mse)\n",
        "print(\"Root Mean Squared Error (RMSE):\", rmse)\n",
        "\n",
        "# Calculate the Mean Absolute Percentage Error (MAPE)\n",
        "mape = (abs((test_data - y_pred) / test_data)).mean() * 100\n",
        "print(\"Mean Absolute Percentage Error (MAPE):\", mape)\n",
        "\n",
        "# Visualize the predicted vs actual stock prices\n",
        "plt.figure(figsize=(10, 6))\n",
        "\n",
        "plt.plot(test_data.index, y_pred, label='Predicted')\n",
        "plt.xlabel('Time')\n",
        "plt.ylabel('Stock Price')\n",
        "plt.title('Predicted vs Actual Stock Prices')\n",
        "plt.legend()\n",
        "plt.show()\n"
      ]
    }
  ]
}